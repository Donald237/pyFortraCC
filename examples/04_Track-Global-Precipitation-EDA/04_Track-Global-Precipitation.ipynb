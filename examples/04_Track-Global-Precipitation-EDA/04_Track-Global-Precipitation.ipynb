{
  "cells": [
    {
      "cell_type": "markdown",
      "metadata": {
        "id": "view-in-github",
        "colab_type": "text"
      },
      "source": [
        "<a href=\"https://colab.research.google.com/github/Donald237/pyFortraCC/blob/main/examples/04_Track-Global-Precipitation-EDA/04_Track-Global-Precipitation.ipynb\" target=\"_parent\"><img src=\"https://colab.research.google.com/assets/colab-badge.svg\" alt=\"Open In Colab\"/></a>"
      ]
    },
    {
      "cell_type": "markdown",
      "metadata": {
        "id": "QM72pdLfg0ij"
      },
      "source": [
        "<div align=\"center\"; span style=\"color:#336699\"><b><h2>pyForTraCC - Track Global Precipitation (Milton Hurricane) </h2></b></div>\n",
        "<hr style=\"border:2px solid #0077b9;\">\n",
        "<br/>\n",
        "<div style=\"text-align: center;font-size: 90%;\">\n",
        "   <sup><a href=\"https://www.linkedin.com/in/helvecio-leal/\"> Helvécio B. Leal Neto, <i class=\"fab fa-lg fa-orcid\" style=\"color: #a6ce39\"></i></a></sup><t>&nbsp;</t>\n",
        "    <sup><a href=\"https://www.linkedin.com/in/alan-calheiros-64a252160/\">Alan J. P. Calheiros<i class=\"fab fa-lg fa-orcid\" style=\"color: #a6ce39\"></i></a></sup>\n",
        "   <br/><br/>\n",
        "    National Institute for Space Research (INPE)\n",
        "    <br/>\n",
        "    Avenida dos Astronautas, 1758, Jardim da Granja, São José dos Campos, SP 12227-010, Brazil\n",
        "    <br/><br/>\n",
        "    Contact: <a href=\"mailto:helvecio.neto@inpe.br\">helvecio.neto@inpe.br</a>, <a href=\"mailto:alan.calheiros@inpe.br\">alan.calheiros@inpe.br</a>\n",
        "    <br/><br/>\n",
        "    Last Update: Feb 12, 2025\n",
        "</div>\n",
        "\n",
        "<br/>\n",
        "\n",
        "<div style=\"text-align: justify;  margin-left: 25%; margin-right: 25%;\">\n",
        "<b>Abstract.</b> This Jupyter Notebook demonstrates the use of PyFortracc to track precipitation within Hurricane Milton, <br>\n",
        "which occurred from October 7 to October 10, 2024. In this example, we utilize JAXA GSMaP data to analyze the hurricane's <br>\n",
        "precipitation patterns and movement, showcasing PyFortracc's capabilities for tracking global precipitation systems.\n",
        "</div>    \n",
        "<br/>\n",
        "<div style=\"text-align: justify;  margin-left: 15%; margin-right: 15%;font-size: 75%; border-style: solid; border-color: #0077b9; border-width: 1px; padding: 5px;\">\n",
        "    <b>In this example, we will use pyfortracc to compute track of precipitating systems over the globe and explore the output data after the algorithm workflow.\n",
        "</b>\n",
        "    <div style=\"margin-left: 10px; margin-right: 10px; margin-top:10px\">\n",
        "      <p> Leal Neto, H.B.; Calheiros, A.J.P.;  pyForTraCC Algorithm. São José dos Campos, INPE, 2024. <a href=\"https://github.com/fortracc-project/pyfortracc\" target=\"_blank\"> Online </a>. </p>\n",
        "    </div>\n",
        "</div>"
      ]
    },
    {
      "cell_type": "markdown",
      "metadata": {
        "id": "wHZaTL8-g0il"
      },
      "source": [
        "### Schedule\n",
        " [1. Installation](#install)<br>\n",
        " [2. Input Data (Download from Google Earth Engine)](#input)<br>\n",
        " [3. Read Function](#data)<br>\n",
        " [4. Parameters (Name_list)](#namelist)<br>\n",
        " [5. Tracking Routine](#track)<br>\n",
        " [6. Tracking Table](#tracktable)<br>\n",
        " [7. Tracking Visualization](#visualization)<br>\n",
        " [8. Statistics](#statistics)"
      ]
    },
    {
      "cell_type": "markdown",
      "metadata": {
        "id": "M3NAQ38Ag0im"
      },
      "source": [
        "<a id='install'></a>\n",
        "#### 1. Installation\n",
        "\n",
        "- Installing the pyFortraCC package can be done using the pip install command.\n",
        "All dependencies will be installed in the current Python environment and the code will be ready to use.\n",
        "\n",
        "- Install Google Earth Engine Python API.\n"
      ]
    },
    {
      "cell_type": "code",
      "execution_count": 1,
      "metadata": {
        "id": "7_BFJjx4g0im",
        "outputId": "1395866f-a0bc-4be4-c446-53e5f95dcfc5",
        "colab": {
          "base_uri": "https://localhost:8080/"
        }
      },
      "outputs": [
        {
          "output_type": "stream",
          "name": "stdout",
          "text": [
            "\u001b[2K   \u001b[90m━━━━━━━━━━━━━━━━━━━━━━━━━━━━━━━━━━━━━━━━\u001b[0m \u001b[32m95.0/95.0 kB\u001b[0m \u001b[31m1.8 MB/s\u001b[0m eta \u001b[36m0:00:00\u001b[0m\n",
            "\u001b[2K   \u001b[90m━━━━━━━━━━━━━━━━━━━━━━━━━━━━━━━━━━━━━━━━\u001b[0m \u001b[32m11.7/11.7 MB\u001b[0m \u001b[31m47.3 MB/s\u001b[0m eta \u001b[36m0:00:00\u001b[0m\n",
            "\u001b[2K   \u001b[90m━━━━━━━━━━━━━━━━━━━━━━━━━━━━━━━━━━━━━━━━\u001b[0m \u001b[32m9.3/9.3 MB\u001b[0m \u001b[31m43.6 MB/s\u001b[0m eta \u001b[36m0:00:00\u001b[0m\n",
            "\u001b[2K   \u001b[90m━━━━━━━━━━━━━━━━━━━━━━━━━━━━━━━━━━━━━━━━\u001b[0m \u001b[32m22.2/22.2 MB\u001b[0m \u001b[31m17.7 MB/s\u001b[0m eta \u001b[36m0:00:00\u001b[0m\n",
            "\u001b[2K   \u001b[90m━━━━━━━━━━━━━━━━━━━━━━━━━━━━━━━━━━━━━━━━\u001b[0m \u001b[32m105.0/105.0 kB\u001b[0m \u001b[31m5.0 MB/s\u001b[0m eta \u001b[36m0:00:00\u001b[0m\n",
            "\u001b[2K   \u001b[90m━━━━━━━━━━━━━━━━━━━━━━━━━━━━━━━━━━━━━━━━\u001b[0m \u001b[32m1.6/1.6 MB\u001b[0m \u001b[31m18.7 MB/s\u001b[0m eta \u001b[36m0:00:00\u001b[0m\n",
            "\u001b[2K   \u001b[90m━━━━━━━━━━━━━━━━━━━━━━━━━━━━━━━━━━━━━━━━\u001b[0m \u001b[32m1.4/1.4 MB\u001b[0m \u001b[31m14.4 MB/s\u001b[0m eta \u001b[36m0:00:00\u001b[0m\n",
            "\u001b[2K   \u001b[90m━━━━━━━━━━━━━━━━━━━━━━━━━━━━━━━━━━━━━━━━\u001b[0m \u001b[32m462.6/462.6 kB\u001b[0m \u001b[31m10.7 MB/s\u001b[0m eta \u001b[36m0:00:00\u001b[0m\n",
            "\u001b[2K   \u001b[90m━━━━━━━━━━━━━━━━━━━━━━━━━━━━━━━━━━━━━━━━\u001b[0m \u001b[32m1.3/1.3 MB\u001b[0m \u001b[31m46.2 MB/s\u001b[0m eta \u001b[36m0:00:00\u001b[0m\n",
            "\u001b[?25h"
          ]
        }
      ],
      "source": [
        "# Install latest version of pyfortracc\n",
        "!python -m pip install -q -U pyfortracc\n",
        "\n",
        "# Google Earth Engine API\n",
        "!python -m pip install -q -U earthengine-api xee"
      ]
    },
    {
      "cell_type": "markdown",
      "metadata": {
        "id": "cBBzEZHug0in"
      },
      "source": [
        "Import all necessary libraries for this example."
      ]
    },
    {
      "cell_type": "code",
      "execution_count": 2,
      "metadata": {
        "id": "WelrQf81g0io"
      },
      "outputs": [],
      "source": [
        "import ee\n",
        "import xarray as xr\n",
        "import os\n",
        "import sys\n",
        "import platform\n",
        "import glob\n",
        "import pandas as pd\n",
        "import numpy as np\n",
        "import matplotlib.pyplot as plt\n",
        "from concurrent.futures import ProcessPoolExecutor, as_completed\n",
        "from tqdm import tqdm\n",
        "\n",
        "import logging\n",
        "logging.getLogger('googleapiclient.http').setLevel(logging.ERROR)"
      ]
    },
    {
      "cell_type": "markdown",
      "metadata": {
        "id": "zbAZsZKFg0io"
      },
      "source": [
        "To use the Google Earth Engine API, you need to create a project in Google Cloud Platform and activate the Earth Engine API.\n",
        "\n",
        "-  Create a project using link https://console.cloud.google.com/projectcreate\n",
        "\n",
        "![imgs/eeimg1.png](https://github.com/fortracc/pyfortracc/blob/main/examples/04_Track-Global-Precipitation-EDA/imgs/eeimg1.png?raw=1)\n",
        "\n",
        "-  Activate Earth Engine API for created project https://console.cloud.google.com/apis/library/earthengine.googleapis.com\n",
        "\n",
        "![imgs/eeimg2.png](https://github.com/fortracc/pyfortracc/blob/main/examples/04_Track-Global-Precipitation-EDA/imgs/eeimg2.png?raw=1)\n",
        "\n",
        "- Copy the project ID (eg. pyfortracc12345) and paste in project_id variable below.\n",
        "\n",
        "- If you running the code outside of Google Colab, you need to authenticate the Google Earth Engine API copying the link generated in the generated token and paste in the input box.\n",
        "\n",
        "\n",
        "\n",
        "Obs: If you have any trouble with the Google Earth Engine API auth, please check the documentation at https://developers.google.com/earth-engine/guides/auth"
      ]
    },
    {
      "cell_type": "code",
      "execution_count": 4,
      "metadata": {
        "id": "CY9_uGQig0io",
        "outputId": "d191fb0b-01a5-44a5-e063-ba391d727896",
        "colab": {
          "base_uri": "https://localhost:8080/",
          "height": 460
        }
      },
      "outputs": [
        {
          "output_type": "error",
          "ename": "EEException",
          "evalue": "Project 'projects/project_id' not found or deleted.",
          "traceback": [
            "\u001b[0;31m---------------------------------------------------------------------------\u001b[0m",
            "\u001b[0;31mHttpError\u001b[0m                                 Traceback (most recent call last)",
            "\u001b[0;32m/usr/local/lib/python3.11/dist-packages/ee/data.py\u001b[0m in \u001b[0;36m_execute_cloud_call\u001b[0;34m(call, num_retries)\u001b[0m\n\u001b[1;32m    407\u001b[0m   \u001b[0;32mtry\u001b[0m\u001b[0;34m:\u001b[0m\u001b[0;34m\u001b[0m\u001b[0;34m\u001b[0m\u001b[0m\n\u001b[0;32m--> 408\u001b[0;31m     \u001b[0;32mreturn\u001b[0m \u001b[0mcall\u001b[0m\u001b[0;34m.\u001b[0m\u001b[0mexecute\u001b[0m\u001b[0;34m(\u001b[0m\u001b[0mnum_retries\u001b[0m\u001b[0;34m=\u001b[0m\u001b[0mnum_retries\u001b[0m\u001b[0;34m)\u001b[0m\u001b[0;34m\u001b[0m\u001b[0;34m\u001b[0m\u001b[0m\n\u001b[0m\u001b[1;32m    409\u001b[0m   \u001b[0;32mexcept\u001b[0m \u001b[0mgoogleapiclient\u001b[0m\u001b[0;34m.\u001b[0m\u001b[0merrors\u001b[0m\u001b[0;34m.\u001b[0m\u001b[0mHttpError\u001b[0m \u001b[0;32mas\u001b[0m \u001b[0me\u001b[0m\u001b[0;34m:\u001b[0m\u001b[0;34m\u001b[0m\u001b[0;34m\u001b[0m\u001b[0m\n",
            "\u001b[0;32m/usr/local/lib/python3.11/dist-packages/googleapiclient/_helpers.py\u001b[0m in \u001b[0;36mpositional_wrapper\u001b[0;34m(*args, **kwargs)\u001b[0m\n\u001b[1;32m    129\u001b[0m                     \u001b[0mlogger\u001b[0m\u001b[0;34m.\u001b[0m\u001b[0mwarning\u001b[0m\u001b[0;34m(\u001b[0m\u001b[0mmessage\u001b[0m\u001b[0;34m)\u001b[0m\u001b[0;34m\u001b[0m\u001b[0;34m\u001b[0m\u001b[0m\n\u001b[0;32m--> 130\u001b[0;31m             \u001b[0;32mreturn\u001b[0m \u001b[0mwrapped\u001b[0m\u001b[0;34m(\u001b[0m\u001b[0;34m*\u001b[0m\u001b[0margs\u001b[0m\u001b[0;34m,\u001b[0m \u001b[0;34m**\u001b[0m\u001b[0mkwargs\u001b[0m\u001b[0;34m)\u001b[0m\u001b[0;34m\u001b[0m\u001b[0;34m\u001b[0m\u001b[0m\n\u001b[0m\u001b[1;32m    131\u001b[0m \u001b[0;34m\u001b[0m\u001b[0m\n",
            "\u001b[0;32m/usr/local/lib/python3.11/dist-packages/googleapiclient/http.py\u001b[0m in \u001b[0;36mexecute\u001b[0;34m(self, http, num_retries)\u001b[0m\n\u001b[1;32m    937\u001b[0m         \u001b[0;32mif\u001b[0m \u001b[0mresp\u001b[0m\u001b[0;34m.\u001b[0m\u001b[0mstatus\u001b[0m \u001b[0;34m>=\u001b[0m \u001b[0;36m300\u001b[0m\u001b[0;34m:\u001b[0m\u001b[0;34m\u001b[0m\u001b[0;34m\u001b[0m\u001b[0m\n\u001b[0;32m--> 938\u001b[0;31m             \u001b[0;32mraise\u001b[0m \u001b[0mHttpError\u001b[0m\u001b[0;34m(\u001b[0m\u001b[0mresp\u001b[0m\u001b[0;34m,\u001b[0m \u001b[0mcontent\u001b[0m\u001b[0;34m,\u001b[0m \u001b[0muri\u001b[0m\u001b[0;34m=\u001b[0m\u001b[0mself\u001b[0m\u001b[0;34m.\u001b[0m\u001b[0muri\u001b[0m\u001b[0;34m)\u001b[0m\u001b[0;34m\u001b[0m\u001b[0;34m\u001b[0m\u001b[0m\n\u001b[0m\u001b[1;32m    939\u001b[0m         \u001b[0;32mreturn\u001b[0m \u001b[0mself\u001b[0m\u001b[0;34m.\u001b[0m\u001b[0mpostproc\u001b[0m\u001b[0;34m(\u001b[0m\u001b[0mresp\u001b[0m\u001b[0;34m,\u001b[0m \u001b[0mcontent\u001b[0m\u001b[0;34m)\u001b[0m\u001b[0;34m\u001b[0m\u001b[0;34m\u001b[0m\u001b[0m\n",
            "\u001b[0;31mHttpError\u001b[0m: <HttpError 400 when requesting https://earthengine.googleapis.com/v1/projects/project_id/algorithms?prettyPrint=false&alt=json returned \"Project 'projects/project_id' not found or deleted.\". Details: \"[{'@type': 'type.googleapis.com/google.rpc.ErrorInfo', 'reason': 'USER_PROJECT_DENIED', 'domain': 'googleapis.com', 'metadata': {'containerInfo': 'projects/project_id', 'consumer': 'projects/project_id', 'service': 'earthengine.googleapis.com'}}]\">",
            "\nDuring handling of the above exception, another exception occurred:\n",
            "\u001b[0;31mEEException\u001b[0m                               Traceback (most recent call last)",
            "\u001b[0;32m<ipython-input-4-9a826749e710>\u001b[0m in \u001b[0;36m<cell line: 0>\u001b[0;34m()\u001b[0m\n\u001b[1;32m      6\u001b[0m \u001b[0;34m\u001b[0m\u001b[0m\n\u001b[1;32m      7\u001b[0m \u001b[0;31m# Initialize the Earth Engine module\u001b[0m\u001b[0;34m\u001b[0m\u001b[0;34m\u001b[0m\u001b[0m\n\u001b[0;32m----> 8\u001b[0;31m \u001b[0mee\u001b[0m\u001b[0;34m.\u001b[0m\u001b[0mInitialize\u001b[0m\u001b[0;34m(\u001b[0m\u001b[0mproject\u001b[0m\u001b[0;34m=\u001b[0m\u001b[0mproject_id\u001b[0m\u001b[0;34m)\u001b[0m\u001b[0;34m\u001b[0m\u001b[0;34m\u001b[0m\u001b[0m\n\u001b[0m",
            "\u001b[0;32m/usr/local/lib/python3.11/dist-packages/ee/_utils.py\u001b[0m in \u001b[0;36mwrapper\u001b[0;34m(*args, **kwargs)\u001b[0m\n\u001b[1;32m     36\u001b[0m           \u001b[0;32mif\u001b[0m \u001b[0mnew_key\u001b[0m \u001b[0;32mnot\u001b[0m \u001b[0;32min\u001b[0m \u001b[0mkwargs\u001b[0m\u001b[0;34m:\u001b[0m\u001b[0;34m\u001b[0m\u001b[0;34m\u001b[0m\u001b[0m\n\u001b[1;32m     37\u001b[0m             \u001b[0mkwargs\u001b[0m\u001b[0;34m[\u001b[0m\u001b[0mnew_key\u001b[0m\u001b[0;34m]\u001b[0m \u001b[0;34m=\u001b[0m \u001b[0mold_key_val\u001b[0m\u001b[0;34m\u001b[0m\u001b[0;34m\u001b[0m\u001b[0m\n\u001b[0;32m---> 38\u001b[0;31m       \u001b[0;32mreturn\u001b[0m \u001b[0mfunc\u001b[0m\u001b[0;34m(\u001b[0m\u001b[0;34m*\u001b[0m\u001b[0margs\u001b[0m\u001b[0;34m,\u001b[0m \u001b[0;34m**\u001b[0m\u001b[0mkwargs\u001b[0m\u001b[0;34m)\u001b[0m\u001b[0;34m\u001b[0m\u001b[0;34m\u001b[0m\u001b[0m\n\u001b[0m\u001b[1;32m     39\u001b[0m \u001b[0;34m\u001b[0m\u001b[0m\n\u001b[1;32m     40\u001b[0m     \u001b[0;32mreturn\u001b[0m \u001b[0mwrapper\u001b[0m\u001b[0;34m\u001b[0m\u001b[0;34m\u001b[0m\u001b[0m\n",
            "\u001b[0;32m/usr/local/lib/python3.11/dist-packages/ee/__init__.py\u001b[0m in \u001b[0;36mInitialize\u001b[0;34m(credentials, url, cloud_api_key, http_transport, project)\u001b[0m\n\u001b[1;32m    230\u001b[0m     ):\n\u001b[1;32m    231\u001b[0m       \u001b[0;32mraise\u001b[0m \u001b[0mEEException\u001b[0m\u001b[0;34m(\u001b[0m\u001b[0mNO_PROJECT_EXCEPTION\u001b[0m\u001b[0;34m)\u001b[0m \u001b[0;32mfrom\u001b[0m \u001b[0;32mNone\u001b[0m\u001b[0;34m\u001b[0m\u001b[0;34m\u001b[0m\u001b[0m\n\u001b[0;32m--> 232\u001b[0;31m     \u001b[0;32mraise\u001b[0m \u001b[0me\u001b[0m\u001b[0;34m\u001b[0m\u001b[0;34m\u001b[0m\u001b[0m\n\u001b[0m\u001b[1;32m    233\u001b[0m \u001b[0;34m\u001b[0m\u001b[0m\n\u001b[1;32m    234\u001b[0m   \u001b[0;32mfor\u001b[0m \u001b[0mdynamic_class\u001b[0m \u001b[0;32min\u001b[0m \u001b[0m_DYNAMIC_CLASSES\u001b[0m\u001b[0;34m:\u001b[0m\u001b[0;34m\u001b[0m\u001b[0;34m\u001b[0m\u001b[0m\n",
            "\u001b[0;32m/usr/local/lib/python3.11/dist-packages/ee/__init__.py\u001b[0m in \u001b[0;36mInitialize\u001b[0;34m(credentials, url, cloud_api_key, http_transport, project)\u001b[0m\n\u001b[1;32m    212\u001b[0m   \u001b[0;31m# Initialize the dynamically loaded functions on the objects that want them.\u001b[0m\u001b[0;34m\u001b[0m\u001b[0;34m\u001b[0m\u001b[0m\n\u001b[1;32m    213\u001b[0m   \u001b[0;32mtry\u001b[0m\u001b[0;34m:\u001b[0m\u001b[0;34m\u001b[0m\u001b[0;34m\u001b[0m\u001b[0m\n\u001b[0;32m--> 214\u001b[0;31m     \u001b[0mApiFunction\u001b[0m\u001b[0;34m.\u001b[0m\u001b[0minitialize\u001b[0m\u001b[0;34m(\u001b[0m\u001b[0;34m)\u001b[0m\u001b[0;34m\u001b[0m\u001b[0;34m\u001b[0m\u001b[0m\n\u001b[0m\u001b[1;32m    215\u001b[0m   \u001b[0;32mexcept\u001b[0m \u001b[0mEEException\u001b[0m \u001b[0;32mas\u001b[0m \u001b[0me\u001b[0m\u001b[0;34m:\u001b[0m\u001b[0;34m\u001b[0m\u001b[0;34m\u001b[0m\u001b[0m\n\u001b[1;32m    216\u001b[0m     \u001b[0;31m# We tried to detect missing projects before initialization, but some cases\u001b[0m\u001b[0;34m\u001b[0m\u001b[0;34m\u001b[0m\u001b[0m\n",
            "\u001b[0;32m/usr/local/lib/python3.11/dist-packages/ee/apifunction.py\u001b[0m in \u001b[0;36minitialize\u001b[0;34m(cls)\u001b[0m\n\u001b[1;32m    159\u001b[0m     \u001b[0;34m\"\"\"Initializes the list of signatures from the Earth Engine front-end.\"\"\"\u001b[0m\u001b[0;34m\u001b[0m\u001b[0;34m\u001b[0m\u001b[0m\n\u001b[1;32m    160\u001b[0m     \u001b[0;32mif\u001b[0m \u001b[0;32mnot\u001b[0m \u001b[0mcls\u001b[0m\u001b[0;34m.\u001b[0m\u001b[0m_api\u001b[0m\u001b[0;34m:\u001b[0m\u001b[0;34m\u001b[0m\u001b[0;34m\u001b[0m\u001b[0m\n\u001b[0;32m--> 161\u001b[0;31m       \u001b[0msignatures\u001b[0m \u001b[0;34m=\u001b[0m \u001b[0mdata\u001b[0m\u001b[0;34m.\u001b[0m\u001b[0mgetAlgorithms\u001b[0m\u001b[0;34m(\u001b[0m\u001b[0;34m)\u001b[0m\u001b[0;34m\u001b[0m\u001b[0;34m\u001b[0m\u001b[0m\n\u001b[0m\u001b[1;32m    162\u001b[0m       \u001b[0mapi\u001b[0m \u001b[0;34m=\u001b[0m \u001b[0;34m{\u001b[0m\u001b[0;34m}\u001b[0m\u001b[0;34m\u001b[0m\u001b[0;34m\u001b[0m\u001b[0m\n\u001b[1;32m    163\u001b[0m       \u001b[0;32mfor\u001b[0m \u001b[0mname\u001b[0m\u001b[0;34m,\u001b[0m \u001b[0msig\u001b[0m \u001b[0;32min\u001b[0m \u001b[0msignatures\u001b[0m\u001b[0;34m.\u001b[0m\u001b[0mitems\u001b[0m\u001b[0;34m(\u001b[0m\u001b[0;34m)\u001b[0m\u001b[0;34m:\u001b[0m\u001b[0;34m\u001b[0m\u001b[0;34m\u001b[0m\u001b[0m\n",
            "\u001b[0;32m/usr/local/lib/python3.11/dist-packages/ee/data.py\u001b[0m in \u001b[0;36mgetAlgorithms\u001b[0;34m()\u001b[0m\n\u001b[1;32m   1497\u001b[0m           file=sys.stderr)\n\u001b[1;32m   1498\u001b[0m   \u001b[0mcall\u001b[0m\u001b[0;34m.\u001b[0m\u001b[0madd_response_callback\u001b[0m\u001b[0;34m(\u001b[0m\u001b[0minspect\u001b[0m\u001b[0;34m)\u001b[0m\u001b[0;34m\u001b[0m\u001b[0;34m\u001b[0m\u001b[0m\n\u001b[0;32m-> 1499\u001b[0;31m   \u001b[0;32mreturn\u001b[0m \u001b[0m_cloud_api_utils\u001b[0m\u001b[0;34m.\u001b[0m\u001b[0mconvert_algorithms\u001b[0m\u001b[0;34m(\u001b[0m\u001b[0m_execute_cloud_call\u001b[0m\u001b[0;34m(\u001b[0m\u001b[0mcall\u001b[0m\u001b[0;34m)\u001b[0m\u001b[0;34m)\u001b[0m\u001b[0;34m\u001b[0m\u001b[0;34m\u001b[0m\u001b[0m\n\u001b[0m\u001b[1;32m   1500\u001b[0m \u001b[0;34m\u001b[0m\u001b[0m\n\u001b[1;32m   1501\u001b[0m \u001b[0;34m\u001b[0m\u001b[0m\n",
            "\u001b[0;32m/usr/local/lib/python3.11/dist-packages/ee/data.py\u001b[0m in \u001b[0;36m_execute_cloud_call\u001b[0;34m(call, num_retries)\u001b[0m\n\u001b[1;32m    408\u001b[0m     \u001b[0;32mreturn\u001b[0m \u001b[0mcall\u001b[0m\u001b[0;34m.\u001b[0m\u001b[0mexecute\u001b[0m\u001b[0;34m(\u001b[0m\u001b[0mnum_retries\u001b[0m\u001b[0;34m=\u001b[0m\u001b[0mnum_retries\u001b[0m\u001b[0;34m)\u001b[0m\u001b[0;34m\u001b[0m\u001b[0;34m\u001b[0m\u001b[0m\n\u001b[1;32m    409\u001b[0m   \u001b[0;32mexcept\u001b[0m \u001b[0mgoogleapiclient\u001b[0m\u001b[0;34m.\u001b[0m\u001b[0merrors\u001b[0m\u001b[0;34m.\u001b[0m\u001b[0mHttpError\u001b[0m \u001b[0;32mas\u001b[0m \u001b[0me\u001b[0m\u001b[0;34m:\u001b[0m\u001b[0;34m\u001b[0m\u001b[0;34m\u001b[0m\u001b[0m\n\u001b[0;32m--> 410\u001b[0;31m     \u001b[0;32mraise\u001b[0m \u001b[0m_translate_cloud_exception\u001b[0m\u001b[0;34m(\u001b[0m\u001b[0me\u001b[0m\u001b[0;34m)\u001b[0m  \u001b[0;31m# pylint: disable=raise-missing-from\u001b[0m\u001b[0;34m\u001b[0m\u001b[0;34m\u001b[0m\u001b[0m\n\u001b[0m\u001b[1;32m    411\u001b[0m \u001b[0;34m\u001b[0m\u001b[0m\n\u001b[1;32m    412\u001b[0m \u001b[0;34m\u001b[0m\u001b[0m\n",
            "\u001b[0;31mEEException\u001b[0m: Project 'projects/project_id' not found or deleted."
          ]
        }
      ],
      "source": [
        "# Authenticate to the Earth Engine servers\n",
        "project_id = 'project_id'  # Replace with your project ID\n",
        "\n",
        "# If you run this notebook on your local machine, you need copy and paste the authorization code into the input notebook box.\n",
        "ee.Authenticate()\n",
        "\n",
        "# Initialize the Earth Engine module\n",
        "ee.Initialize(project=project_id)"
      ]
    },
    {
      "cell_type": "markdown",
      "metadata": {
        "id": "H8x7AP54g0ip"
      },
      "source": [
        "### Tracking Precipitation from Hurricane Milton\n",
        "\n",
        "In this example, we set up parameters to track the precipitation associated with Hurricane Milton, which occurred from October 7 to October 10, 2024.\n",
        "\n",
        "- **Analysis Period**: The `start_date` and `end_date` variables define the time range to focus specifically on the hurricane period, ensuring that the analysis targets precipitation data during this event.\n",
        "- **Precipitation Variable**: `variable` is set to `hourlyPrecipRate`, allowing us to observe hourly precipitation rates. This variable is essential for monitoring rainfall intensity associated with the hurricane over time.\n",
        "- **Spatial Scale**: `scale` is set to 0.1 degrees, specifying the spatial resolution of the data. This value provides a good balance between spatial detail and computational performance, suitable for analyzing global-scale events like a hurricane.\n",
        "- **Data Retrieval and Filtering**: The precipitation image collection `JAXA/GPM_L3/GSMaP/v8/operational` from Earth Engine is filtered by the specified dates and variable, focusing on relevant precipitation data.\n",
        "- **Data Loading**: We use xarray to load the filtered data (`ic`) into a Dataset format, with the specified projection and scale. This facilitates the manipulation and analysis of geospatial data, which will be used to monitor the trajectory and intensity of hurricane precipitation.\n",
        "\n",
        "These parameters provide a basis for analyzing precipitation from significant weather events, such as Hurricane Milton, using JAXA GSMaP's global data collection.\n"
      ]
    },
    {
      "cell_type": "code",
      "execution_count": null,
      "metadata": {
        "id": "3aL2hRp7g0ip"
      },
      "outputs": [],
      "source": [
        "# Get collection and put into a dataset\n",
        "start_date = '2024-10-07'\n",
        "end_date = '2024-10-10'\n",
        "variable = 'hourlyPrecipRate'\n",
        "scale = 0.1\n",
        "\n",
        "# Get the data\n",
        "ic = ee.ImageCollection('JAXA/GPM_L3/GSMaP/v8/operational').filterDate(start_date, end_date).select(variable)\n",
        "ds = xr.open_dataset(ic, engine='ee', crs='EPSG:4326', scale=scale)"
      ]
    },
    {
      "cell_type": "code",
      "execution_count": null,
      "metadata": {
        "id": "rkIw1kY1g0ip"
      },
      "outputs": [],
      "source": [
        "# Save the dataset as files\n",
        "def save_single_file(ds, t, output_dir, var):\n",
        "    timestamp = pd.to_datetime(t.values).strftime('%Y%m%dT%H%M%S')\n",
        "    ds.sel(time=t)[[var]].to_netcdf(f\"{output_dir}/{timestamp}.nc\")\n",
        "\n",
        "def save_times_as_files(ds, output_dir, var):\n",
        "    os.makedirs(output_dir, exist_ok=True)\n",
        "    for f in glob.glob(f\"{output_dir}/*.nc\"):\n",
        "        os.remove(f)\n",
        "    if 'IPython' in sys.modules and platform.system() != 'Linux':\n",
        "        for t in tqdm(ds.time, desc=\"Downloading files\"):\n",
        "            save_single_file(ds, t, output_dir, var)\n",
        "    else:\n",
        "        with ProcessPoolExecutor() as executor:\n",
        "            futures = [executor.submit(save_single_file, ds, t, output_dir, var) for t in ds.time]\n",
        "            for _ in tqdm(as_completed(futures), total=len(futures), desc=\"Downloading files\"):\n",
        "                pass\n",
        "# Download and save files\n",
        "save_times_as_files(ds, output_dir='input/', var=variable)"
      ]
    },
    {
      "cell_type": "markdown",
      "metadata": {
        "id": "ke6sNm41g0ip"
      },
      "source": [
        "<a id='data'></a>\n",
        "#### 3. Read Function:\n",
        "### Data Reading Function\n",
        "\n",
        "The following function, `read_function`, is designed to load and preprocess data from a specified file path.\n",
        "\n",
        "- **Function Purpose**: `read_function` opens a data file, specifically using the `xarray` library to handle data in the form of a DataArray. This function is intended for use with data files structured in formats that `xarray` supports (e.g., NetCDF).\n",
        "- **Parameter**: The function takes one parameter, `path`, which is the file path to the data file to be read.\n",
        "- **Data Extraction and Transformation**:\n",
        "  - `xr.open_dataarray(path).data` reads the data from the file into an array format.\n",
        "  - `np.rot90(data)` rotates the array by 90 degrees, likely to adjust the orientation for analysis or visualization.\n",
        "  - `[:: -1]` reverses the order of the rows after rotation, flipping the data vertically.\n",
        "  \n",
        "- **Return Value**: The function returns the transformed data as a NumPy array, ready for further processing or visualization.\n",
        "\n",
        "This function is essential for preparing data to be compatible with the `pyFortracc` algorithm, which requires the data in a two-dimensional NumPy array format. This ensures that the data structure is appropriate for pyFortracc's tracking processes.\n"
      ]
    },
    {
      "cell_type": "code",
      "execution_count": null,
      "metadata": {
        "id": "qxUb21msg0iq"
      },
      "outputs": [],
      "source": [
        "# Create a function to read the data\n",
        "def read_function(path):\n",
        "  data = xr.open_dataarray(path).data\n",
        "  return np.rot90(data)[::-1]"
      ]
    },
    {
      "cell_type": "markdown",
      "metadata": {
        "id": "dSUCBPZGg0iq"
      },
      "source": [
        "<a id='namelist'></a>\n",
        "#### 4. Parameters\n",
        "\n",
        "In this example, a threshold of **2.5 mm/h** has been chosen for clustering precipitation data, with a minimum cluster size of **20 pixels**. Given a pixel size of 0.1 degrees, this corresponds to clusters with an approximate size of **0.2 square degrees** (20 pixels * 0.1 degrees² per pixel).\n",
        "\n",
        "- **Parameter Configuration (`name_list`)**:\n",
        "    - `input_path`: Specifies the directory containing the input files for tracking (`input/`).\n",
        "    - `output_path`: Defines the directory where the output files will be saved (`output/`).\n",
        "    - `thresholds`: Sets the precipitation threshold for clustering (2.5 mm/h), meaning only areas with precipitation at or above this level will be considered.\n",
        "    - `min_cluster_size`: Specifies the minimum cluster size (20 pixels) to filter out small or insignificant clusters in the tracking process.\n",
        "    - `operator`: Sets the threshold operator (`>=`), meaning clusters are created for areas with precipitation greater than or equal to 2.5 mm/h.\n",
        "    - `timestamp_pattern`: Defines the file naming pattern for timestamps (`'%Y%m%dT%H%M%S.nc'`), allowing the algorithm to identify and order files by time.\n",
        "    - `delta_time`: Sets the time difference between successive frames to 60 minutes, helping track precipitation changes over time.\n",
        "    - `edges`: Enables borders in the tracking process, which can improve accuracy by defining boundaries.\n",
        "    - `lon_min`, `lon_max`, `lat_min`, `lat_max`: Set the spatial extent (longitude and latitude) for tracking, using the minimum and maximum coordinates from the dataset `ds`.\n",
        "\n",
        "These settings ensure that PyFortracc can detect clusters of significant precipitation, applying spatial and temporal constraints to the data while maintaining a focus on regions meeting the 2.5 mm/h threshold.\n"
      ]
    },
    {
      "cell_type": "code",
      "execution_count": null,
      "metadata": {
        "id": "In5y9pv5g0iq"
      },
      "outputs": [],
      "source": [
        "# Set name_list\n",
        "name_list = {}\n",
        "name_list['input_path'] = 'input/' # Path to the input files\n",
        "name_list['output_path'] = 'output/' # Path to the output files\n",
        "name_list['thresholds'] = [2.5] # Thresholds for the clustering\n",
        "name_list['min_cluster_size'] = [20] # Minimum cluster size\n",
        "name_list['operator'] = '>=' # Operator for the threshold\n",
        "name_list['timestamp_pattern'] = ['%Y%m%dT%H%M%S.nc'] # Timestamp pattern\n",
        "name_list['delta_time'] = 60 # Delta time in minutes\n",
        "name_list['edges'] = True # Set to apply borders into the track\n",
        "name_list['lon_min'] = ds.lon.data[0] # Set the longitude minimum\n",
        "name_list['lon_max'] = ds.lon.data[-1] # Set the longitude maximum\n",
        "name_list['lat_min'] = ds.lat.data[0] # Set the latitude minimum\n",
        "name_list['lat_max'] = ds.lat.data[-1] # Set the latitude maximum\n",
        "name_list['cluster_method'] = 'dbscan' # Set the clustering method DBSCAN\n",
        "name_list['eps'] = 5 # Set the epsilon for the DBSCAN"
      ]
    },
    {
      "cell_type": "markdown",
      "metadata": {
        "id": "iDH7PLV4g0iq"
      },
      "source": [
        "<a id='track'></a>\n",
        "#### 5. Track Routine\n",
        "\n",
        "The tracking module groups the main objectives of the algorithm. This module uses the tracking parameters and the data reading function, and only with this information is it possible to carry out the entire tracking process of the objects present in the input data. The output of this module will be the tracking files, and they will be located in the trackingtable directory, which gives the name to the same entity that we will see in the next topic. Furthermore, it is worth highlighting that each step of the tracking module groups other modules (Features Extraction, Spatial Operations, Cluster linking and Result Containment) intended for the object tracking process.\n",
        "You could also run all the functions in one line using the track function:"
      ]
    },
    {
      "cell_type": "code",
      "execution_count": null,
      "metadata": {
        "id": "C40PexmTg0iq"
      },
      "outputs": [],
      "source": [
        "# Import track function\n",
        "from pyfortracc import track\n",
        "\n",
        "# Run pyfortracc\n",
        "track(name_list, read_function)"
      ]
    },
    {
      "cell_type": "markdown",
      "metadata": {
        "id": "1yK8scj_g0iq"
      },
      "source": [
        "Visualize entry tracking for global precipitation data."
      ]
    },
    {
      "cell_type": "code",
      "execution_count": null,
      "metadata": {
        "id": "-1E7aVsug0iq"
      },
      "outputs": [],
      "source": [
        "# Import plot functions\n",
        "from pyfortracc import plot, plot_animation"
      ]
    },
    {
      "cell_type": "code",
      "execution_count": null,
      "metadata": {
        "id": "aUhSj5d-g0iq"
      },
      "outputs": [],
      "source": [
        "# Plot the single track image\n",
        "plot(read_function=read_function, # Read function\n",
        "                          figsize=(10,7), # Figure size\n",
        "                          name_list=name_list, # Name list dictionary\n",
        "                          timestamp = start_date,\n",
        "                          info_col_name=False,\n",
        "                          cbar_title='mm/h', # Colorbar title\n",
        "                          cmap='turbo', # Colormap\n",
        "                          min_val=1, # Min value\n",
        "                          max_val=25, # Max value\n",
        "                          nan_value=1, # NaN value\n",
        "                          cbar_extend='max', # Colorbar extend\n",
        "                          nan_operation=np.less_equal, # NaN operation\n",
        "                          box_fontsize=10, # Box fontsize\n",
        "                          )"
      ]
    },
    {
      "cell_type": "markdown",
      "metadata": {
        "id": "qvkoGlwkg0iq"
      },
      "source": [
        "To visualize the initial tracking information, we use the `plot` utility from the `pyfortracc` library to identify the unique cluster identifier (UID) associated with Hurricane Milton. This plot focuses on the storm's origin area in the Gulf of Mexico by applying a zoom over this region, specifically for the event's starting date. This setup allows us to examine precipitation patterns and ensure correct tracking of the hurricane's initial formation."
      ]
    },
    {
      "cell_type": "code",
      "execution_count": null,
      "metadata": {
        "id": "8fwbEk0ug0iq"
      },
      "outputs": [],
      "source": [
        "# Set lat and lon to Gulf of Mexico\n",
        "mg_lat_min, mg_lat_max, mg_lon_min, mg_lon_max = 15, 35, -100, -75\n",
        "zoom_region = [mg_lon_min, mg_lon_max, mg_lat_min, mg_lat_max]\n",
        "\n",
        "# Plot the tracking data for periods of time.\n",
        "plot(read_function=read_function, # Read function\n",
        "                          figsize=(8,7), # Figure size\n",
        "                          name_list=name_list, # Name list dictionary\n",
        "                          timestamp = start_date,\n",
        "                          info_col_name=True,\n",
        "                          info_cols=['uid','max','area'],\n",
        "                          cbar_title='mm/h', # Colorbar title\n",
        "                          cmap='turbo', # Colormap\n",
        "                          min_val=1, # Min value\n",
        "                          max_val=25, # Max value\n",
        "                          nan_value=1, # NaN value\n",
        "                          cbar_extend='max', # Colorbar extend\n",
        "                          nan_operation=np.less_equal, # NaN operation\n",
        "                          box_fontsize=10, # Box fontsize\n",
        "                          zoom_region=zoom_region,\n",
        "                          )"
      ]
    },
    {
      "cell_type": "code",
      "execution_count": null,
      "metadata": {
        "id": "I6YT2o4pg0iq"
      },
      "outputs": [],
      "source": [
        "# Set the uid of the hurricane\n",
        "hurricane_uid = 144"
      ]
    },
    {
      "cell_type": "markdown",
      "metadata": {
        "id": "NM1-LJzBg0ir"
      },
      "source": [
        "The tracking table generated by the algorithm provides extensive information on tracked clusters over the specified period. This table contains detailed historical data and statistics for each cluster, which can be analyzed further. In this example, we use the unique identifier (UID) of Hurricane Milton to filter the table with `loc`, displaying the full history and statistical information tracked by the algorithm for this specific cluster. This allows us to observe the hurricane's evolution and gain insights into its precipitation patterns, size, intensity, and other metrics across its lifespan."
      ]
    },
    {
      "cell_type": "code",
      "execution_count": null,
      "metadata": {
        "id": "Z6IM-srfg0ir"
      },
      "outputs": [],
      "source": [
        "import duckdb\n",
        "\n",
        "# Connect to the database\n",
        "con = duckdb.connect(database=':memory:', read_only=False)\n",
        "\n",
        "# Read and filter the data from track table\n",
        "filterd_cluster = con.execute(f\"\"\"SELECT *\n",
        "                             FROM parquet_scan('output/track/trackingtable/*.parquet',\n",
        "                             union_by_name=True)\n",
        "                             WHERE uid = {hurricane_uid}\"\"\").fetch_df()\n",
        "# Set index to timestamp\n",
        "filterd_cluster.set_index('timestamp', inplace=True)\n",
        "display(filterd_cluster.head(3))"
      ]
    },
    {
      "cell_type": "markdown",
      "metadata": {
        "id": "NnZ2G8Y1g0ir"
      },
      "source": [
        "The figure illustrates the changes in cluster size and maximum precipitation for Hurricane Milton over its lifetime. The orange line with circular markers represents the **cluster size in pixels**, while the blue line with circular markers represents the **maximum precipitation rate (in mm/h)**.\n",
        "\n",
        "- **Status Indicators**: The labels at the top display the lifecycle stages, indicating moments where the cluster was split (`SPL`), merged (`MRG`), or continued (`CON`). This information is critical for understanding the structural changes within the hurricane over time.\n",
        "- **Lifetime Tracking**: The secondary x-axis shows the total hours elapsed since tracking began, helping to contextualize each stage within the hurricane's timeline.\n"
      ]
    },
    {
      "cell_type": "code",
      "execution_count": null,
      "metadata": {
        "id": "6IQA6y0lg0ir"
      },
      "outputs": [],
      "source": [
        "# Plot the tracking table for the hurricane\n",
        "fig, ax1 = plt.subplots(1, 1, figsize=(15, 6))\n",
        "ax2 = ax1.twinx()\n",
        "ax3 = ax2.twiny()\n",
        "f1 = filterd_cluster['size'].plot(ax=ax1, marker='o', linestyle='dashed', color='C1', zorder=5, linewidth=3, markersize=10)\n",
        "f2 = filterd_cluster['max'].plot(ax=ax2, marker='o', linestyle='dotted', color='C0', zorder=1, linewidth=2, markersize=10)\n",
        "lines, labels = ax1.get_legend_handles_labels()\n",
        "lines2, labels2 = ax2.get_legend_handles_labels()\n",
        "labels = ['Size (pixels)']\n",
        "labels2 = ['Max Precipitation(mm/h)']\n",
        "ax2.legend(lines + lines2, labels + labels2, loc=0)\n",
        "ax1.set_ylabel('Size (pixels)')\n",
        "ax2.set_ylabel('Max Precipitation(mm/h)')\n",
        "ax3.set_xticks(range(0, int(filterd_cluster.lifetime.max()) + 1, 60))\n",
        "ax3.tick_params(axis='x', which='major', labelsize=8, rotation=45)\n",
        "ax1.set_xticks(filterd_cluster.index)\n",
        "ax1.set_xticklabels([ts.strftime('%H:%M') for ts in filterd_cluster.index], rotation=45, ha='right', fontsize=8)\n",
        "# Status\n",
        "for i in range(len(filterd_cluster)):\n",
        "    ax3.text(filterd_cluster.lifetime[i] - 20, 230.5, filterd_cluster['status'][i], fontsize=5, fontweight='bold')\n",
        "# Labels\n",
        "ax1.set_xlabel('Tracking Start at ' + filterd_cluster.index.min().strftime('%Y-%m-%d %H:%M'), labelpad=12, fontsize=12, fontweight='bold')\n",
        "ax3.set_xlabel('Status and Lifetime (hours)', labelpad=16, fontsize=16, fontweight='bold')\n",
        "ax3.set_xlim(filterd_cluster.lifetime.min(), filterd_cluster.lifetime.max())\n",
        "ax3.grid(True, which='both', axis='x', linestyle='--', alpha=0.5)\n",
        "ax1.grid(True, which='both', axis='y', linestyle='--', alpha=0.2)\n",
        "plt.tight_layout()\n",
        "plt.show()"
      ]
    },
    {
      "cell_type": "markdown",
      "metadata": {
        "id": "5-lwou-Og0ir"
      },
      "source": [
        "To visualize the evolution of Hurricane Milton over time, we use the `plot_animation` utility from the `pyfortracc` library. By setting the `uid` to the specific identifier of the hurricane (UID 46), the animation focuses on tracking Milton's path and precipitation intensity from start to end dates. A zoom is applied over the Gulf of Mexico region to highlight the hurricane's trajectory, and additional information (e.g., UID, maximum precipitation, size, and lifetime) is displayed for each frame, enabling a detailed view of the hurricane's development."
      ]
    },
    {
      "cell_type": "code",
      "execution_count": null,
      "metadata": {
        "id": "vd4xM5Ycg0is"
      },
      "outputs": [],
      "source": [
        "# Plot the animation of the tracking data for periods of time. If the period is large, the plot will be slower\n",
        "plot_animation(read_function=read_function, # Read function\n",
        "                          figsize=(10,7), # Figure size\n",
        "                          name_list=name_list, # Name list dictionary\n",
        "                          start_timestamp = start_date, # Start timestamp\n",
        "                          end_timestamp= end_date, # End timestamp\n",
        "                          info_col_name=True,\n",
        "                          info_cols=['uid','max','area'],\n",
        "                          cbar_title='mm/h', # Colorbar title\n",
        "                          cmap='turbo', # Colormap\n",
        "                          min_val=1, # Min value for plot\n",
        "                          max_val=80, # Set the max value for plot\n",
        "                          nan_value=1, # Set the NaN value\n",
        "                          nan_operation=np.less_equal, # NaN operation\n",
        "                          box_fontsize=10, # Box fontsize\n",
        "                          zoom_region=zoom_region, # Zoom region\n",
        "                          uid_list=[hurricane_uid], # The uid of Milton Hurricane\n",
        "                          traj_linewidth=3, # Trajectory linewidth\n",
        "                          traj_color='red', # Trajectory color\n",
        "                          parallel=False\n",
        "                          )"
      ]
    }
  ],
  "metadata": {
    "kernelspec": {
      "display_name": "pyfortracc",
      "language": "python",
      "name": "python3"
    },
    "language_info": {
      "codemirror_mode": {
        "name": "ipython",
        "version": 3
      },
      "file_extension": ".py",
      "mimetype": "text/x-python",
      "name": "python",
      "nbconvert_exporter": "python",
      "pygments_lexer": "ipython3",
      "version": "undefined.undefined.undefined"
    },
    "colab": {
      "provenance": [],
      "include_colab_link": true
    }
  },
  "nbformat": 4,
  "nbformat_minor": 0
}